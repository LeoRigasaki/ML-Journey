{
 "cells": [
  {
   "cell_type": "markdown",
   "metadata": {},
   "source": [
    "# Logistic Regression Implementation from Scratch\n",
    "\n",
    "## Stage 1: Exploratory Data Analysis\n",
    "\n",
    "We'll start by exploring and visualizing our data before implementation."
   ]
  },
  {
   "cell_type": "code",
   "execution_count": null,
   "metadata": {},
   "outputs": [],
   "source": [
    "# Essential imports\n",
    "import numpy as np\n",
    "import pandas as pd\n",
    "import matplotlib.pyplot as plt\n",
    "import seaborn as sns\n",
    "from sklearn.datasets import make_classification\n",
    "from sklearn.model_selection import train_test_split\n",
    "\n",
    "# Set random seed for reproducibility\n",
    "np.random.seed(42)\n",
    "\n",
    "# Configure plot styling\n",
    "plt.style.use('seaborn')\n",
    "sns.set_palette('husl')"
   ]
  },
  {
   "cell_type": "markdown",
   "metadata": {},
   "source": [
    "### 1.1 Data Generation\n",
    "\n",
    "Let's create synthetic data for binary classification to understand the problem better."
   ]
  },
  {
   "cell_type": "code",
   "execution_count": null,
   "metadata": {},
   "outputs": [],
   "source": [
    "def generate_data(n_samples=1000, n_features=2, n_classes=2, n_clusters_per_class=1):\n",
    "    \"\"\"Generate synthetic data for binary classification.\"\"\"\n",
    "    X, y = make_classification(\n",
    "        n_samples=n_samples,\n",
    "        n_features=n_features,\n",
    "        n_classes=n_classes,\n",
    "        n_clusters_per_class=n_clusters_per_class,\n",
    "        random_state=42\n",
    "    )\n",
    "    return X, y\n",
    "\n",
    "# Generate data\n",
    "X, y = generate_data()\n",
    "\n",
    "# Split into training and testing sets\n",
    "X_train, X_test, y_train, y_test = train_test_split(\n",
    "    X, y, test_size=0.2, random_state=42\n",
    ")"
   ]
  },
  {
   "cell_type": "markdown",
   "metadata": {},
   "source": [
    "### 1.2 Data Visualization"
   ]
  },
  {
   "cell_type": "code",
   "execution_count": null,
   "metadata": {},
   "outputs": [],
   "source": [
    "def plot_data_distribution(X, y):\n",
    "    \"\"\"Visualize the distribution of features and classes.\"\"\"\n",
    "    plt.figure(figsize=(12, 5))\n",
    "    \n",
    "    # Scatter plot of features\n",
    "    plt.subplot(121)\n",
    "    scatter = plt.scatter(X[:, 0], X[:, 1], c=y, cmap='viridis', alpha=0.6)\n",
    "    plt.colorbar(scatter)\n",
    "    plt.xlabel('Feature 1')\n",
    "    plt.ylabel('Feature 2')\n",
    "    plt.title('Feature Distribution by Class')\n",
    "    \n",
    "    # Class distribution\n",
    "    plt.subplot(122)\n",
    "    sns.countplot(y=y)\n",
    "    plt.xlabel('Class')\n",
    "    plt.title('Class Distribution')\n",
    "    \n",
    "    plt.tight_layout()\n",
    "    plt.show()\n",
    "\n",
    "# Visualize the data\n",
    "plot_data_distribution(X, y)"
   ]
  },
  {
   "cell_type": "markdown",
   "metadata": {},
   "source": [
    "### 1.3 Feature Analysis"
   ]
  },
  {
   "cell_type": "code",
   "execution_count": null,
   "metadata": {},
   "outputs": [],
   "source": [
    "def analyze_features(X, y):\n",
    "    \"\"\"Analyze feature distributions and relationships.\"\"\"\n",
    "    plt.figure(figsize=(12, 5))\n",
    "    \n",
    "    # Feature distributions\n",
    "    plt.subplot(121)\n",
    "    for i in range(X.shape[1]):\n",
    "        sns.kdeplot(data=X[:, i], label=f'Feature {i+1}')\n",
    "    plt.xlabel('Value')\n",
    "    plt.ylabel('Density')\n",
    "    plt.title('Feature Distributions')\n",
    "    plt.legend()\n",
    "    \n",
    "    # Correlation between features\n",
    "    plt.subplot(122)\n",
    "    sns.heatmap(\n",
    "        np.corrcoef(X.T),\n",
    "        annot=True,\n",
    "        cmap='coolwarm',\n",
    "        vmin=-1,\n",
    "        vmax=1\n",
    "    )\n",
    "    plt.title('Feature Correlation Matrix')\n",
    "    \n",
    "    plt.tight_layout()\n",
    "    plt.show()\n",
    "\n",
    "# Analyze features\n",
    "analyze_features(X, y)"
   ]
  },
  {
   "cell_type": "markdown",
   "metadata": {},
   "source": [
    "### 1.4 Data Statistics"
   ]
  },
  {
   "cell_type": "code",
   "execution_count": null,
   "metadata": {},
   "outputs": [],
   "source": [
    "def print_data_stats(X, y):\n",
    "    \"\"\"Print basic statistics about the dataset.\"\"\"\n",
    "    print(\"Dataset Statistics:\")\n",
    "    print(\"-\" * 20)\n",
    "    print(f\"Number of samples: {X.shape[0]}\")\n",
    "    print(f\"Number of features: {X.shape[1]}\")\n",
    "    print(f\"Number of classes: {len(np.unique(y))}\")\n",
    "    print(f\"Class distribution:\\n{pd.Series(y).value_counts().to_dict()}\")\n",
    "    \n",
    "    # Feature statistics\n",
    "    feature_stats = pd.DataFrame({\n",
    "        'Mean': X.mean(axis=0),\n",
    "        'Std': X.std(axis=0),\n",
    "        'Min': X.min(axis=0),\n",
    "        'Max': X.max(axis=0)\n",
    "    }, index=[f'Feature {i+1}' for i in range(X.shape[1])])\n",
    "    \n",
    "    print(\"\\nFeature Statistics:\")\n",
    "    print(\"-\" * 20)\n",
    "    print(feature_stats)\n",
    "\n",
    "# Print dataset statistics\n",
    "print_data_stats(X, y)"
   ]
  },
  {
   "cell_type": "markdown",
   "metadata": {},
   "source": [
    "### 1.5 Data Preprocessing Check"
   ]
  },
  {
   "cell_type": "code",
   "execution_count": null,
   "metadata": {},
   "outputs": [],
   "source": [
    "def check_preprocessing_needs(X):\n",
    "    \"\"\"Check if data needs preprocessing.\"\"\"\n",
    "    checks = {\n",
    "        'Missing values': np.any(np.isnan(X)),\n",
    "        'Infinity values': np.any(np.isinf(X)),\n",
    "        'Scale differences': np.any(np.abs(X.std(axis=0)) > 10),\n",
    "        'Zero variance': np.any(X.std(axis=0) == 0)\n",
    "    }\n",
    "    \n",
    "    print(\"Preprocessing Checks:\")\n",
    "    print(\"-\" * 20)\n",
    "    for check, result in checks.items():\n",
    "        print(f\"{check}: {'Needed' if result else 'Not needed'}\")\n",
    "\n",
    "# Check preprocessing needs\n",
    "check_preprocessing_needs(X)"
   ]
  },
  {
   "cell_type": "markdown",
   "metadata": {},
   "source": [
    "### 1.6 Decision Boundary Visualization (Preview)"
   ]
  },
  {
   "cell_type": "code",
   "execution_count": null,
   "metadata": {},
   "outputs": [],
   "source": [
    "def plot_decision_regions_preview(X, y):\n",
    "    \"\"\"Plot decision regions using a simple threshold.\"\"\"\n",
    "    plt.figure(figsize=(10, 6))\n",
    "    \n",
    "    # Create a mesh grid\n",
    "    x_min, x_max = X[:, 0].min() - 1, X[:, 0].max() + 1\n",
    "    y_min, y_max = X[:, 1].min() - 1, X[:, 1].max() + 1\n",
    "    xx, yy = np.meshgrid(np.linspace(x_min, x_max, 100),\n",
    "                         np.linspace(y_min, y_max, 100))\n",
    "    \n",
    "    # Simple threshold for visualization\n",
    "    Z = (xx + yy > 0).astype(int)\n",
    "    \n",
    "    # Plot decision regions\n",
    "    plt.contourf(xx, yy, Z, alpha=0.4, cmap='viridis')\n",
    "    plt.scatter(X[:, 0], X[:, 1], c=y, cmap='viridis', alpha=0.8)\n",
    "    plt.xlabel('Feature 1')\n",
    "    plt.ylabel('Feature 2')\n",
    "    plt.title('Preview of Decision Regions (Simple Threshold)')\n",
    "    plt.colorbar()\n",
    "    plt.show()\n",
    "\n",
    "# Plot preview of decision regions\n",
    "plot_decision_regions_preview(X, y)"
   ]
  },
  {
   "cell_type": "markdown",
   "metadata": {},
   "source": [
    "### Summary of EDA Findings\n",
    "\n",
    "1. **Data Structure**:\n",
    "   - Binary classification problem\n",
    "   - Two features for visualization purposes\n",
    "   - Balanced class distribution\n",
    "\n",
    "2. **Feature Characteristics**:\n",
    "   - No missing or infinite values\n",
    "   - Features are on similar scales\n",
    "   - Non-zero variance in all features\n",
    "\n",
    "3. **Visualization Insights**:\n",
    "   - Classes are somewhat separable\n",
    "   - Non-linear decision boundary might be needed\n",
    "   - Some overlap between classes\n",
    "\n",
    "4. **Next Steps**:\n",
    "   - Implement logistic regression\n",
    "   - Consider feature scaling for optimization\n",
    "   - Evaluate model performance\n",
    "   - Compare with non-linear classifiers"
   ]
  }
 ],
 "metadata": {
  "kernelspec": {
   "display_name": "base",
   "language": "python",
   "name": "python3"
  },
  "language_info": {
   "codemirror_mode": {
    "name": "ipython",
    "version": 3
   },
   "file_extension": ".py",
   "mimetype": "text/x-python",
   "name": "python",
   "nbconvert_exporter": "python",
   "pygments_lexer": "ipython3",
   "version": "3.9.16"
  }
 },
 "nbformat": 4,
 "nbformat_minor": 2
}
