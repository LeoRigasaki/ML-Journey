{
 "cells": [
  {
   "cell_type": "markdown",
   "metadata": {},
   "source": [
    "I did my best to summarize all I was able to understand from each papers :(\n",
    "\n",
    "Open this Notebook in Google Colab\n",
    "\n",
    "[![Open In Colab](https://colab.research.google.com/assets/colab-badge.svg)](https://colab.research.google.com/github/your_github_username/ML-Journey/blob/main/notebooks/Linear%20Regression/implementation.ipynb)\n"
   ]
  },
  {
   "cell_type": "markdown",
   "metadata": {},
   "source": [
    "# Linear Regression Research Study\n",
    "\n",
    "## Key Research Papers and Their Contributions"
   ]
  },
  {
   "cell_type": "markdown",
   "metadata": {},
   "source": [
    "### 1. The Original Least Squares Method\n",
    "\n",
    "**Paper**: \"On the Method of Least Squares\" by Carl Friedrich Gauss (1809)\n",
    "\n",
    "**Key Contributions**:\n",
    "- Introduced the method of least squares for regression analysis\n",
    "- Proved that least squares estimators are optimal under certain conditions\n",
    "- Established the foundation for modern regression analysis\n",
    "\n",
    "**Mathematical Foundation**:\n",
    "```\n",
    "β̂ = (X'X)⁻¹X'y\n",
    "```\n",
    "where β̂ represents the estimated parameters, X is the design matrix, and y is the target variable."
   ]
  },
  {
   "cell_type": "markdown",
   "metadata": {},
   "source": [
    "### 2. Ridge Regression\n",
    "\n",
    "**Paper**: \"Ridge Regression: Biased Estimation for Nonorthogonal Problems\" by Hoerl and Kennard (1970)\n",
    "\n",
    "**Key Contributions**:\n",
    "- Introduced L2 regularization to handle multicollinearity\n",
    "- Demonstrated improved prediction accuracy through bias-variance tradeoff\n",
    "- Developed methods for selecting optimal regularization parameter\n",
    "\n",
    "**Mathematical Formula**:\n",
    "```\n",
    "β̂ᵣᵢᵈᵍᵉ = (X'X + λI)⁻¹X'y\n",
    "```\n",
    "where λ is the regularization parameter and I is the identity matrix."
   ]
  },
  {
   "cell_type": "markdown",
   "metadata": {},
   "source": [
    "### 3. LASSO Regression\n",
    "\n",
    "**Paper**: \"Regression Shrinkage and Selection via the Lasso\" by Robert Tibshirani (1996)\n",
    "\n",
    "**Key Contributions**:\n",
    "- Introduced L1 regularization for feature selection\n",
    "- Demonstrated sparse solutions in high-dimensional settings\n",
    "- Provided computational algorithms for solving LASSO\n",
    "\n",
    "**Optimization Problem**:\n",
    "```\n",
    "min ||y - Xβ||² + λ||β||₁\n",
    "```\n",
    "where ||β||₁ is the L1 norm of the parameter vector."
   ]
  },
  {
   "cell_type": "markdown",
   "metadata": {},
   "source": [
    "### 4. Elastic Net\n",
    "\n",
    "**Paper**: \"Regularization and Variable Selection via the Elastic Net\" by Zou and Hastie (2005)\n",
    "\n",
    "**Key Contributions**:\n",
    "- Combined L1 and L2 regularization\n",
    "- Addressed limitations of LASSO in high correlations\n",
    "- Demonstrated superior performance in grouped variable selection\n",
    "\n",
    "**Optimization Problem**:\n",
    "```\n",
    "min ||y - Xβ||² + λ₁||β||₁ + λ₂||β||²\n",
    "```"
   ]
  },
  {
   "cell_type": "markdown",
   "metadata": {},
   "source": [
    "### 5. Modern Developments\n",
    "\n",
    "**1. Robust Regression**\n",
    "- Paper: \"High Breakdown-Point and Efficient Robust Regression\" by Rousseeuw and Yohai (1984)\n",
    "- Introduced methods resistant to outliers\n",
    "- Developed MM-estimators for robust regression\n",
    "\n",
    "**2. Bayesian Linear Regression**\n",
    "- Multiple papers by various authors\n",
    "- Incorporated prior knowledge into regression\n",
    "- Provided uncertainty estimates for predictions\n",
    "\n",
    "**3. Deep Learning Connections**\n",
    "- Linear regression as a single-layer neural network\n",
    "- Basis for understanding more complex architectures"
   ]
  },
  {
   "cell_type": "markdown",
   "metadata": {},
   "source": [
    "## Practical Implications\n",
    "\n",
    "1. **Model Selection**:\n",
    "   - Use standard linear regression for well-behaved data\n",
    "   - Apply Ridge when features are correlated\n",
    "   - Use LASSO for feature selection\n",
    "   - Consider Elastic Net for combined benefits\n",
    "\n",
    "2. **Regularization**:\n",
    "   - Essential for high-dimensional data\n",
    "   - Prevents overfitting\n",
    "   - Improves model generalization\n",
    "\n",
    "3. **Assumptions**:\n",
    "   - Linearity\n",
    "   - Independence\n",
    "   - Homoscedasticity\n",
    "   - Normality of residuals"
   ]
  },
  {
   "cell_type": "markdown",
   "metadata": {},
   "source": [
    "## Future Research Directions\n",
    "\n",
    "1. **Automated Feature Engineering**:\n",
    "   - Smart selection of polynomial features\n",
    "   - Automatic interaction detection\n",
    "\n",
    "2. **Interpretability**:\n",
    "   - Better methods for feature importance\n",
    "   - Causal inference in linear models\n",
    "\n",
    "3. **Scalability**:\n",
    "   - Efficient algorithms for big data\n",
    "   - Distributed computing approaches"
   ]
  },
  {
   "cell_type": "code",
   "execution_count": 1,
   "metadata": {},
   "outputs": [],
   "source": [
    "import numpy as np\n",
    "import pandas as pd\n",
    "import matplotlib.pyplot as plt\n",
    "from sklearn.linear_model import LinearRegression, Ridge, Lasso, ElasticNet\n",
    "from sklearn.model_selection import train_test_split, cross_val_score\n",
    "from sklearn.preprocessing import StandardScaler\n",
    "from sklearn.metrics import mean_squared_error\n"
   ]
  },
  {
   "cell_type": "code",
   "execution_count": 2,
   "metadata": {},
   "outputs": [
    {
     "name": "stdout",
     "output_type": "stream",
     "text": [
      "   MedInc  HouseAge  AveRooms  AveBedrms  Population  AveOccup  Latitude  \\\n",
      "0  8.3252      41.0  6.984127   1.023810       322.0  2.555556     37.88   \n",
      "1  8.3014      21.0  6.238137   0.971880      2401.0  2.109842     37.86   \n",
      "2  7.2574      52.0  8.288136   1.073446       496.0  2.802260     37.85   \n",
      "3  5.6431      52.0  5.817352   1.073059       558.0  2.547945     37.85   \n",
      "4  3.8462      52.0  6.281853   1.081081       565.0  2.181467     37.85   \n",
      "\n",
      "   Longitude  Target  \n",
      "0    -122.23   4.526  \n",
      "1    -122.22   3.585  \n",
      "2    -122.24   3.521  \n",
      "3    -122.25   3.413  \n",
      "4    -122.25   3.422  \n",
      "             MedInc      HouseAge      AveRooms     AveBedrms    Population  \\\n",
      "count  20640.000000  20640.000000  20640.000000  20640.000000  20640.000000   \n",
      "mean       3.870671     28.639486      5.429000      1.096675   1425.476744   \n",
      "std        1.899822     12.585558      2.474173      0.473911   1132.462122   \n",
      "min        0.499900      1.000000      0.846154      0.333333      3.000000   \n",
      "25%        2.563400     18.000000      4.440716      1.006079    787.000000   \n",
      "50%        3.534800     29.000000      5.229129      1.048780   1166.000000   \n",
      "75%        4.743250     37.000000      6.052381      1.099526   1725.000000   \n",
      "max       15.000100     52.000000    141.909091     34.066667  35682.000000   \n",
      "\n",
      "           AveOccup      Latitude     Longitude        Target  \n",
      "count  20640.000000  20640.000000  20640.000000  20640.000000  \n",
      "mean       3.070655     35.631861   -119.569704      2.068558  \n",
      "std       10.386050      2.135952      2.003532      1.153956  \n",
      "min        0.692308     32.540000   -124.350000      0.149990  \n",
      "25%        2.429741     33.930000   -121.800000      1.196000  \n",
      "50%        2.818116     34.260000   -118.490000      1.797000  \n",
      "75%        3.282261     37.710000   -118.010000      2.647250  \n",
      "max     1243.333333     41.950000   -114.310000      5.000010  \n"
     ]
    }
   ],
   "source": [
    "# Load a sample dataset\n",
    "from sklearn.datasets import fetch_california_housing\n",
    "data = fetch_california_housing()\n",
    "\n",
    "# Create a DataFrame\n",
    "df = pd.DataFrame(data.data, columns=data.feature_names)\n",
    "df['Target'] = data.target\n",
    "\n",
    "# Display basic information\n",
    "print(df.head())\n",
    "print(df.describe())\n"
   ]
  },
  {
   "cell_type": "code",
   "execution_count": 3,
   "metadata": {},
   "outputs": [],
   "source": [
    "# Define features and target variable\n",
    "X = df.drop('Target', axis=1)\n",
    "y = df['Target']\n",
    "\n",
    "# Split the data into training and testing sets\n",
    "X_train, X_test, y_train, y_test = train_test_split(X, y, test_size=0.2, random_state=42)\n",
    "\n",
    "# Standardize the features\n",
    "scaler = StandardScaler()\n",
    "X_train_scaled = scaler.fit_transform(X_train)\n",
    "X_test_scaled = scaler.transform(X_test)\n"
   ]
  },
  {
   "cell_type": "code",
   "execution_count": 4,
   "metadata": {},
   "outputs": [
    {
     "name": "stdout",
     "output_type": "stream",
     "text": [
      "OLS Regression Mean Squared Error: 0.5559\n"
     ]
    }
   ],
   "source": [
    "# Initialize and train the OLS regression model\n",
    "ols_model = LinearRegression()\n",
    "ols_model.fit(X_train_scaled, y_train)\n",
    "\n",
    "# Predict and evaluate\n",
    "y_pred_ols = ols_model.predict(X_test_scaled)\n",
    "mse_ols = mean_squared_error(y_test, y_pred_ols)\n",
    "print(f\"OLS Regression Mean Squared Error: {mse_ols:.4f}\")\n"
   ]
  },
  {
   "cell_type": "code",
   "execution_count": 5,
   "metadata": {},
   "outputs": [
    {
     "name": "stdout",
     "output_type": "stream",
     "text": [
      "Ridge Regression Mean Squared Error: 0.5559\n"
     ]
    }
   ],
   "source": [
    "# Initialize and train the Ridge regression model\n",
    "ridge_model = Ridge(alpha=1.0)\n",
    "ridge_model.fit(X_train_scaled, y_train)\n",
    "\n",
    "# Predict and evaluate\n",
    "y_pred_ridge = ridge_model.predict(X_test_scaled)\n",
    "mse_ridge = mean_squared_error(y_test, y_pred_ridge)\n",
    "print(f\"Ridge Regression Mean Squared Error: {mse_ridge:.4f}\")\n"
   ]
  },
  {
   "cell_type": "code",
   "execution_count": 6,
   "metadata": {},
   "outputs": [
    {
     "name": "stdout",
     "output_type": "stream",
     "text": [
      "Lasso Regression Mean Squared Error: 0.6796\n"
     ]
    }
   ],
   "source": [
    "# Initialize and train the Lasso regression model\n",
    "lasso_model = Lasso(alpha=0.1)\n",
    "lasso_model.fit(X_train_scaled, y_train)\n",
    "\n",
    "# Predict and evaluate\n",
    "y_pred_lasso = lasso_model.predict(X_test_scaled)\n",
    "mse_lasso = mean_squared_error(y_test, y_pred_lasso)\n",
    "print(f\"Lasso Regression Mean Squared Error: {mse_lasso:.4f}\")\n"
   ]
  },
  {
   "cell_type": "code",
   "execution_count": 7,
   "metadata": {},
   "outputs": [
    {
     "name": "stdout",
     "output_type": "stream",
     "text": [
      "Elastic Net Regression Mean Squared Error: 0.6359\n"
     ]
    }
   ],
   "source": [
    "# Initialize and train the Elastic Net regression model\n",
    "elastic_net_model = ElasticNet(alpha=0.1, l1_ratio=0.5)\n",
    "elastic_net_model.fit(X_train_scaled, y_train)\n",
    "\n",
    "# Predict and evaluate\n",
    "y_pred_elastic = elastic_net_model.predict(X_test_scaled)\n",
    "mse_elastic = mean_squared_error(y_test, y_pred_elastic)\n",
    "print(f\"Elastic Net Regression Mean Squared Error: {mse_elastic:.4f}\")\n"
   ]
  },
  {
   "cell_type": "code",
   "execution_count": 8,
   "metadata": {},
   "outputs": [
    {
     "data": {
      "image/png": "[encoded data removed]",
      "text/plain": [
       "<Figure size 1000x600 with 1 Axes>"
      ]
     },
     "metadata": {},
     "output_type": "display_data"
    }
   ],
   "source": [
    "# Compile results\n",
    "models = ['OLS', 'Ridge', 'Lasso', 'Elastic Net']\n",
    "mse_values = [mse_ols, mse_ridge, mse_lasso, mse_elastic]\n",
    "\n",
    "# Plot comparison\n",
    "plt.figure(figsize=(10, 6))\n",
    "plt.bar(models, mse_values, color=['blue', 'green', 'red', 'purple'])\n",
    "plt.xlabel('Regression Model')\n",
    "plt.ylabel('Mean Squared Error')\n",
    "plt.title('Comparison of Regression Models')\n",
    "plt.show()\n"
   ]
  },
  {
   "cell_type": "markdown",
   "metadata": {},
   "source": [
    "# Conclusion\n",
    "\n",
    "This notebook examined key developments in linear regression, including OLS, Ridge, Lasso, and Elastic Net regressions. We implemented each method and compared their performance using Mean Squared Error (MSE) as the evaluation metric. The results highlight the importance of selecting appropriate regularization techniques based on the dataset characteristics and the specific problem at hand.\n"
   ]
  },
  {
   "cell_type": "code",
   "execution_count": null,
   "metadata": {},
   "outputs": [],
   "source": []
  }
 ],
 "metadata": {
  "kernelspec": {
   "display_name": "base",
   "language": "python",
   "name": "python3"
  },
  "language_info": {
   "codemirror_mode": {
    "name": "ipython",
    "version": 3
   },
   "file_extension": ".py",
   "mimetype": "text/x-python",
   "name": "python",
   "nbconvert_exporter": "python",
   "pygments_lexer": "ipython3",
   "version": "3.9.16"
  }
 },
 "nbformat": 4,
 "nbformat_minor": 2
}
