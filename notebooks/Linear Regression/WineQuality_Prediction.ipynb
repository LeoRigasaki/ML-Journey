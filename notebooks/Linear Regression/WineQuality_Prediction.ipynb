{
  "cells": [
    {
      "cell_type": "markdown",
      "metadata": {
        "id": "view-in-github",
        "colab_type": "text"
      },
      "source": [
        "<a href=\"https://colab.research.google.com/github/LeoRigasaki/ML-Journey/blob/main/notebooks/Linear%20Regression/WineQuality_Prediction.ipynb\" target=\"_parent\"><img src=\"https://colab.research.google.com/assets/colab-badge.svg\" alt=\"Open In Colab\"/></a>"
      ]
    },
    {
      "cell_type": "markdown",
      "source": [
        "# Wine Quality Prediction using Linear Regression\n",
        "\n",
        "In this notebook, we will build a linear regression model to predict wine quality using the red wine dataset. The approach is practical:\n",
        "- We start by loading and exploring the dataset.\n",
        "- Then we preprocess the data and split it into training and testing sets.\n",
        "- Finally, we build, train, and evaluate a linear regression model.\n",
        "\n",
        "*Hands-on first, theory later!*  \n"
      ],
      "metadata": {
        "id": "f4mw4t-MpToe"
      }
    },
    {
      "cell_type": "code",
      "execution_count": 1,
      "metadata": {
        "id": "kop_JgVBicl4"
      },
      "outputs": [],
      "source": [
        "# Import necessary libraries\n",
        "import pandas as pd\n",
        "import numpy as np\n",
        "import matplotlib.pyplot as plt\n",
        "import seaborn as sns\n",
        "\n",
        "# Enable inline plotting in notebooks\n",
        "%matplotlib inline\n",
        "\n",
        "# For reproducibility\n",
        "np.random.seed(42)\n"
      ]
    },
    {
      "cell_type": "code",
      "execution_count": null,
      "metadata": {
        "id": "DaROTZ2Ln-lM"
      },
      "outputs": [],
      "source": []
    }
  ],
  "metadata": {
    "colab": {
      "provenance": [],
      "include_colab_link": true
    },
    "kernelspec": {
      "display_name": "base",
      "language": "python",
      "name": "python3"
    },
    "language_info": {
      "codemirror_mode": {
        "name": "ipython",
        "version": 3
      },
      "file_extension": ".py",
      "mimetype": "text/x-python",
      "name": "python",
      "nbconvert_exporter": "python",
      "pygments_lexer": "ipython3",
      "version": "3.9.16"
    }
  },
  "nbformat": 4,
  "nbformat_minor": 0
}